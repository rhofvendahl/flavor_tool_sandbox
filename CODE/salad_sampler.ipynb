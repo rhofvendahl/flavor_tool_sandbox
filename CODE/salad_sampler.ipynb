{
 "cells": [
  {
   "cell_type": "markdown",
   "metadata": {},
   "source": [
    "# 0. Setup"
   ]
  },
  {
   "cell_type": "code",
   "execution_count": 1,
   "metadata": {},
   "outputs": [],
   "source": [
    "import pandas as pd\n",
    "import os.path\n",
    "import math\n",
    "import re\n",
    "import random"
   ]
  },
  {
   "cell_type": "code",
   "execution_count": 2,
   "metadata": {},
   "outputs": [],
   "source": [
    "# to_parquet, read_parquet\n",
    "# df.to_pickle(filename)\n",
    "# pd.read_pickle(filename)"
   ]
  },
  {
   "cell_type": "code",
   "execution_count": 3,
   "metadata": {},
   "outputs": [],
   "source": [
    "root_path = os.path.dirname(os.getcwd())\n",
    "ingredients_data_raw = pd.read_csv(os.path.join(root_path, 'DATA/ingredients_data.csv'))\n",
    "ingredients_data = ingredients_data_raw.replace(float('nan'), '')\n",
    "salad_data_impractical = ingredients_data[ingredients_data['salad']=='y']\n",
    "salad_data = salad_data_impractical[(salad_data_impractical['salad_umbrella'] != 'y') & (salad_data_impractical['redirect'] != 'y')]\n",
    "\n",
    "salad_data_basic = salad_data[salad_data['salad_basic'] == 'y']\n",
    "# salad_data = salad_data_basic\n",
    "salad_data_is_basic = False\n",
    "\n",
    "salad_data.reset_index(inplace=True)"
   ]
  },
  {
   "cell_type": "markdown",
   "metadata": {},
   "source": [
    "# 1. Matching \"pairs with\" terms to ingredient names"
   ]
  },
  {
   "cell_type": "markdown",
   "metadata": {},
   "source": [
    "# 2. Extracting \"pairs with\" data"
   ]
  },
  {
   "cell_type": "markdown",
   "metadata": {},
   "source": [
    "# 3. Creating \"clashes with\" data"
   ]
  },
  {
   "cell_type": "markdown",
   "metadata": {},
   "source": [
    "# 4. Salad recipe generators"
   ]
  },
  {
   "cell_type": "markdown",
   "metadata": {},
   "source": [
    "## 4.1. Best of many"
   ]
  },
  {
   "cell_type": "markdown",
   "metadata": {},
   "source": [
    "### 4.1.1. Generator"
   ]
  },
  {
   "cell_type": "markdown",
   "metadata": {},
   "source": [
    "### 4.1.2 Recording recipes"
   ]
  },
  {
   "cell_type": "code",
   "execution_count": 4,
   "metadata": {},
   "outputs": [],
   "source": [
    "salad_greens = salad_data[salad_data['salad_green'] == 'y']\n",
    "\n",
    "salad_extras = salad_data[salad_data['salad_extra'] == 'y']\n",
    "salad_extra_veg = salad_data[(salad_data['veg'] == 'y') & (salad_data['salad_extra'] == 'y')]\n",
    "salad_extra_fruits = salad_data[(salad_data['fruit'] == 'y') & (salad_data['salad_extra'] == 'y')]\n",
    "salad_extra_nuts = salad_data[(salad_data['protein_seed'] == 'y') & (salad_data['salad_extra'] == 'y')]\n",
    "salad_extra_seeds = salad_data[(salad_data['protein_nut'] == 'y') & (salad_data['salad_extra'] == 'y')]\n",
    "salad_extra_tomatoes = salad_data[salad_data['salad_extra_tomato'] == 'y']\n",
    "salad_extra_olives = salad_data[salad_data['salad_extra_olive'] == 'y']\n",
    "salad_extra_cheeses = salad_data[salad_data['salad_extra_cheese'] == 'y']\n",
    "salad_extra_eggs = salad_data[salad_data['salad_extra_egg'] == 'y']\n",
    "salad_extra_croutons = salad_data[salad_data['salad_extra_crouton'] == 'y']\n",
    "\n",
    "salad_dressing_oils = salad_data[salad_data['salad_dressing_oil'] == 'y']\n",
    "salad_dressing_vinegars = salad_data[salad_data['salad_dressing_vinegar'] == 'y']\n",
    "salad_dressing_salts = salad_data[salad_data['salad_dressing_salt'] == 'y']\n",
    "salad_dressing_peppers = salad_data[salad_data['salad_dressing_pepper'] == 'y']\n",
    "salad_dressing_garlics = salad_data[salad_data['salad_dressing_garlic'] == 'y']"
   ]
  },
  {
   "cell_type": "markdown",
   "metadata": {},
   "source": [
    "### 4.1.3. Displaying records"
   ]
  },
  {
   "cell_type": "code",
   "execution_count": 5,
   "metadata": {},
   "outputs": [],
   "source": [
    "# !pip install pyvis\n",
    "\n",
    "from pyvis import network as net"
   ]
  },
  {
   "cell_type": "code",
   "execution_count": 6,
   "metadata": {},
   "outputs": [
    {
     "name": "stdout",
     "output_type": "stream",
     "text": [
      "600\n"
     ]
    }
   ],
   "source": [
    "root_path = os.path.dirname(os.getcwd())\n",
    "salad_recipe_data_full = pd.read_pickle(os.path.join(root_path, 'DATA/salad_recipe_data_latest.csv'))\n",
    "print(len(salad_recipe_data_full))"
   ]
  },
  {
   "cell_type": "code",
   "execution_count": 44,
   "metadata": {},
   "outputs": [
    {
     "name": "stdout",
     "output_type": "stream",
     "text": [
      "SCORE: 8.53580011942081\n"
     ]
    },
    {
     "data": {
      "text/html": [
       "\n",
       "        <iframe\n",
       "            width=\"500px\"\n",
       "            height=\"500px\"\n",
       "            src=\"recipe_net.html\"\n",
       "            frameborder=\"0\"\n",
       "            allowfullscreen\n",
       "        ></iframe>\n",
       "        "
      ],
      "text/plain": [
       "<IPython.lib.display.IFrame at 0x7f4c5defd518>"
      ]
     },
     "execution_count": 44,
     "metadata": {},
     "output_type": "execute_result"
    }
   ],
   "source": [
    "recipe = salad_recipe_data.sample(1).iloc[0]\n",
    "recipe_net = net.Network(notebook=True)\n",
    "\n",
    "nodes = recipe['ingredient_names']\n",
    "\n",
    "nodes_color = []\n",
    "for name in recipe['ingredient_names']:\n",
    "    ingredient = salad_data[salad_data['name'] == name].iloc[0]\n",
    "#     print(name, name in salad_data['name'].values.tolist())\n",
    "    if ingredient['salad_green'] == 'y':\n",
    "        nodes_color.append('lightgreen')\n",
    "    elif ingredient['salad_extra'] == 'y':\n",
    "        if ingredient['veg'] == 'y':\n",
    "            nodes_color.append('green')\n",
    "        elif ingredient['fruit'] == 'y':\n",
    "            nodes_color.append('orange')\n",
    "        elif ingredient['protein_nut_seed'] == 'y':\n",
    "            nodes_color.append('brown')\n",
    "        else:\n",
    "            nodes_color.append('lightblue')\n",
    "    elif ingredient['salad_dressing'] == 'y':\n",
    "        nodes_color.append('lightgrey')  \n",
    "        \n",
    "recipe_net.add_nodes(\n",
    "    nodes=nodes,\n",
    "    color=nodes_color\n",
    ")\n",
    "\n",
    "for pair in recipe['lc_pairs']:\n",
    "    recipe_net.add_edge(pair[0], pair[1], physics=False, color='lightgrey')\n",
    "\n",
    "for pair in recipe['ld_pairs']:\n",
    "    recipe_net.add_edge(pair[0], pair[1], physics=False, color='grey')\n",
    "    \n",
    "for pair in recipe['uc_pairs']:\n",
    "    recipe_net.add_edge(pair[0], pair[1], color='darkgrey')\n",
    "    \n",
    "for pair in recipe['ud_pairs']:\n",
    "    recipe_net.add_edge(pair[0], pair[1], color='black')\n",
    "\n",
    "if not recipe['vegan']:\n",
    "    print('NOT VEGAN')\n",
    "if not recipe['gluten_free']:\n",
    "    print('CONTAINS GLUTEN')\n",
    "print('SCORE:', recipe['score'])\n",
    "recipe_net.show('recipe_net.html')"
   ]
  },
  {
   "cell_type": "code",
   "execution_count": 11,
   "metadata": {},
   "outputs": [
    {
     "data": {
      "text/plain": [
       "index                                                                   10\n",
       "yes                                                                      y\n",
       "staple                                                                   y\n",
       "not_vegan                                                                 \n",
       "gluten                                                                    \n",
       "sweetener                                                                 \n",
       "cuisine                                                                   \n",
       "flavor                                                                    \n",
       "season                                                                    \n",
       "flavoring_sweet                                                           \n",
       "flavoring_fresh                                                           \n",
       "flavoring_wet                                                             \n",
       "flavoring_concentrate                                                     \n",
       "flavoring                                                                 \n",
       "flavoring_dry                                                             \n",
       "protein                                                                   \n",
       "protein_cheese_sub                                                        \n",
       "protein_milk_sub                                                          \n",
       "protein_meat_sub                                                          \n",
       "protein_bean                                                              \n",
       "veg                                                                      y\n",
       "veg_leafy                                                                 \n",
       "grain                                                                     \n",
       "grain_flour                                                               \n",
       "fat_oil                                                                   \n",
       "oil                                                                       \n",
       "fat                                                                       \n",
       "fruit                                                                     \n",
       "fruit_berry                                                               \n",
       "meal                                                                      \n",
       "                                               ...                        \n",
       "salad_umbrella                                                            \n",
       "salad                                                                    y\n",
       "redirect                                                                  \n",
       "salad_basic                                                              y\n",
       "stir_fry_basic                                                           y\n",
       "stir_fry                                                                 y\n",
       "stir_fry_yes                                                             y\n",
       "stir_fry_early                                                            \n",
       "stir_fry_mid                                                             y\n",
       "stir_fry_late                                                             \n",
       "stir_fry_garnish                                                          \n",
       "name                                                                 BEETS\n",
       "flavor.1                 Flavor: sweet, with very earthy, pungent notes...\n",
       "volume                                               Volume: moderate–loud\n",
       "pairs_with               agave nectar\\n\\nallspice\\n\\nanise hyssop\\n\\nan...\n",
       "phonetic                                                                  \n",
       "techniques               Techniques: bake (350°F, about 60 minutes), bo...\n",
       "dishes                   Dishes\\n\\n\\nChocolate Beet Cake, Roasted Pear ...\n",
       "tip                                                                       \n",
       "possible_substitutes                                                      \n",
       "flavor_affinities        Flavor Affinities\\n\\n\\nBEETS + arugula + feta ...\n",
       "nutritional_profile      Nutritional profile: 86% carbs / 11% protein /...\n",
       "calories                              Calories: 60 per 1-cup serving (raw)\n",
       "season.1                       Season: year-round, esp. late summer–autumn\n",
       "botanical_relatives      Botanical relatives: chard, quinoa, spinach, S...\n",
       "protein.1                                                 Protein: 2 grams\n",
       "what_they_are                                                             \n",
       "brands                                                                    \n",
       "vegan_substitutes                                                         \n",
       "vegan_brands                                                              \n",
       "Name: 3, Length: 91, dtype: object"
      ]
     },
     "execution_count": 11,
     "metadata": {},
     "output_type": "execute_result"
    }
   ],
   "source": [
    "salad_data[salad_data['name'] == 'BEETS'].iloc[0]"
   ]
  },
  {
   "cell_type": "markdown",
   "metadata": {},
   "source": [
    "## 4.2. Random control"
   ]
  },
  {
   "cell_type": "code",
   "execution_count": null,
   "metadata": {},
   "outputs": [],
   "source": []
  }
 ],
 "metadata": {
  "kernelspec": {
   "display_name": "Python 3",
   "language": "python",
   "name": "python3"
  },
  "language_info": {
   "codemirror_mode": {
    "name": "ipython",
    "version": 3
   },
   "file_extension": ".py",
   "mimetype": "text/x-python",
   "name": "python",
   "nbconvert_exporter": "python",
   "pygments_lexer": "ipython3",
   "version": "3.6.9"
  }
 },
 "nbformat": 4,
 "nbformat_minor": 2
}
